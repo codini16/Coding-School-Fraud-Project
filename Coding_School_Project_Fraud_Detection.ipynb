{
  "nbformat": 4,
  "nbformat_minor": 0,
  "metadata": {
    "colab": {
      "provenance": [],
      "authorship_tag": "ABX9TyNecpDqp/OL76/WJgJ2Knyu",
      "include_colab_link": true
    },
    "kernelspec": {
      "name": "python3",
      "display_name": "Python 3"
    },
    "language_info": {
      "name": "python"
    }
  },
  "cells": [
    {
      "cell_type": "markdown",
      "metadata": {
        "id": "view-in-github",
        "colab_type": "text"
      },
      "source": [
        "<a href=\"https://colab.research.google.com/github/codini16/Coding-School-Fraud-Project/blob/main/Coding_School_Project_Fraud_Detection.ipynb\" target=\"_parent\"><img src=\"https://colab.research.google.com/assets/colab-badge.svg\" alt=\"Open In Colab\"/></a>"
      ]
    },
    {
      "cell_type": "markdown",
      "source": [
        "# Fraud Detection Dataset"
      ],
      "metadata": {
        "id": "Lo2DWu7839tt"
      }
    },
    {
      "cell_type": "markdown",
      "source": [
        "# Loading Data and Converting Into DataFrame"
      ],
      "metadata": {
        "id": "8pj7g_635x-r"
      }
    },
    {
      "cell_type": "code",
      "execution_count": null,
      "metadata": {
        "colab": {
          "base_uri": "https://localhost:8080/"
        },
        "id": "jZVOIeWQDKXQ",
        "outputId": "2c9782c8-afd1-4b34-aefb-a3dbd95da3b3"
      },
      "outputs": [
        {
          "output_type": "stream",
          "name": "stdout",
          "text": [
            "Mounted at /content/drive\n"
          ]
        }
      ],
      "source": [
        "# load data\n",
        "import pandas as pd\n",
        "import matplotlib.pyplot as plt\n",
        "from scipy import stats\n",
        "from imblearn.under_sampling import RandomUnderSampler\n",
        "from collections import Counter\n",
        "from sklearn.preprocessing import StandardScaler\n",
        "from sklearn.model_selection import train_test_split\n",
        "from sklearn.linear_model import LogisticRegression\n",
        "from sklearn import metrics\n",
        "from google.colab import drive\n",
        "drive.mount('/content/drive')"
      ]
    },
    {
      "cell_type": "code",
      "source": [
        "# convert data to dataframe\n",
        "\n",
        "file_path = '/content/drive/MyDrive/Coding School Fraud Dataset/synthetic_fraud_dataset.csv'\n",
        "fraud_df = pd.read_csv(file_path)\n",
        "fraud_df.head()"
      ],
      "metadata": {
        "colab": {
          "base_uri": "https://localhost:8080/",
          "height": 429
        },
        "id": "z64618T6FRdK",
        "outputId": "a2efb160-d05a-433a-f022-1ffdf605e413"
      },
      "execution_count": null,
      "outputs": [
        {
          "output_type": "execute_result",
          "data": {
            "text/plain": [
              "  Transaction_ID    User_ID  Transaction_Amount Transaction_Type  \\\n",
              "0      TXN_33553  USER_1834               39.79              POS   \n",
              "1       TXN_9427  USER_7875                1.19    Bank Transfer   \n",
              "2        TXN_199  USER_2734               28.96           Online   \n",
              "3      TXN_12447  USER_2617              254.32   ATM Withdrawal   \n",
              "4      TXN_39489  USER_2014               31.28              POS   \n",
              "\n",
              "             Timestamp  Account_Balance Device_Type  Location  \\\n",
              "0  2023-08-14 19:30:00         93213.17      Laptop    Sydney   \n",
              "1  2023-06-07 04:01:00         75725.25      Mobile  New York   \n",
              "2  2023-06-20 15:25:00          1588.96      Tablet    Mumbai   \n",
              "3  2023-12-07 00:31:00         76807.20      Tablet  New York   \n",
              "4  2023-11-11 23:44:00         92354.66      Mobile    Mumbai   \n",
              "\n",
              "  Merchant_Category  IP_Address_Flag  ...  Daily_Transaction_Count  \\\n",
              "0            Travel                0  ...                        7   \n",
              "1          Clothing                0  ...                       13   \n",
              "2       Restaurants                0  ...                       14   \n",
              "3          Clothing                0  ...                        8   \n",
              "4       Electronics                0  ...                       14   \n",
              "\n",
              "   Avg_Transaction_Amount_7d  Failed_Transaction_Count_7d   Card_Type  \\\n",
              "0                     437.63                            3        Amex   \n",
              "1                     478.76                            4  Mastercard   \n",
              "2                      50.01                            4        Visa   \n",
              "3                     182.48                            4        Visa   \n",
              "4                     328.69                            4  Mastercard   \n",
              "\n",
              "  Card_Age  Transaction_Distance  Authentication_Method Risk_Score  \\\n",
              "0       65                883.17              Biometric     0.8494   \n",
              "1      186               2203.36               Password     0.0959   \n",
              "2      226               1909.29              Biometric     0.8400   \n",
              "3       76               1311.86                    OTP     0.7935   \n",
              "4      140                966.98               Password     0.3819   \n",
              "\n",
              "   Is_Weekend  Fraud_Label  \n",
              "0           0            0  \n",
              "1           0            1  \n",
              "2           0            1  \n",
              "3           0            1  \n",
              "4           1            1  \n",
              "\n",
              "[5 rows x 21 columns]"
            ],
            "text/html": [
              "\n",
              "  <div id=\"df-124ea9f2-087e-40b4-825f-2f71c4155054\" class=\"colab-df-container\">\n",
              "    <div>\n",
              "<style scoped>\n",
              "    .dataframe tbody tr th:only-of-type {\n",
              "        vertical-align: middle;\n",
              "    }\n",
              "\n",
              "    .dataframe tbody tr th {\n",
              "        vertical-align: top;\n",
              "    }\n",
              "\n",
              "    .dataframe thead th {\n",
              "        text-align: right;\n",
              "    }\n",
              "</style>\n",
              "<table border=\"1\" class=\"dataframe\">\n",
              "  <thead>\n",
              "    <tr style=\"text-align: right;\">\n",
              "      <th></th>\n",
              "      <th>Transaction_ID</th>\n",
              "      <th>User_ID</th>\n",
              "      <th>Transaction_Amount</th>\n",
              "      <th>Transaction_Type</th>\n",
              "      <th>Timestamp</th>\n",
              "      <th>Account_Balance</th>\n",
              "      <th>Device_Type</th>\n",
              "      <th>Location</th>\n",
              "      <th>Merchant_Category</th>\n",
              "      <th>IP_Address_Flag</th>\n",
              "      <th>...</th>\n",
              "      <th>Daily_Transaction_Count</th>\n",
              "      <th>Avg_Transaction_Amount_7d</th>\n",
              "      <th>Failed_Transaction_Count_7d</th>\n",
              "      <th>Card_Type</th>\n",
              "      <th>Card_Age</th>\n",
              "      <th>Transaction_Distance</th>\n",
              "      <th>Authentication_Method</th>\n",
              "      <th>Risk_Score</th>\n",
              "      <th>Is_Weekend</th>\n",
              "      <th>Fraud_Label</th>\n",
              "    </tr>\n",
              "  </thead>\n",
              "  <tbody>\n",
              "    <tr>\n",
              "      <th>0</th>\n",
              "      <td>TXN_33553</td>\n",
              "      <td>USER_1834</td>\n",
              "      <td>39.79</td>\n",
              "      <td>POS</td>\n",
              "      <td>2023-08-14 19:30:00</td>\n",
              "      <td>93213.17</td>\n",
              "      <td>Laptop</td>\n",
              "      <td>Sydney</td>\n",
              "      <td>Travel</td>\n",
              "      <td>0</td>\n",
              "      <td>...</td>\n",
              "      <td>7</td>\n",
              "      <td>437.63</td>\n",
              "      <td>3</td>\n",
              "      <td>Amex</td>\n",
              "      <td>65</td>\n",
              "      <td>883.17</td>\n",
              "      <td>Biometric</td>\n",
              "      <td>0.8494</td>\n",
              "      <td>0</td>\n",
              "      <td>0</td>\n",
              "    </tr>\n",
              "    <tr>\n",
              "      <th>1</th>\n",
              "      <td>TXN_9427</td>\n",
              "      <td>USER_7875</td>\n",
              "      <td>1.19</td>\n",
              "      <td>Bank Transfer</td>\n",
              "      <td>2023-06-07 04:01:00</td>\n",
              "      <td>75725.25</td>\n",
              "      <td>Mobile</td>\n",
              "      <td>New York</td>\n",
              "      <td>Clothing</td>\n",
              "      <td>0</td>\n",
              "      <td>...</td>\n",
              "      <td>13</td>\n",
              "      <td>478.76</td>\n",
              "      <td>4</td>\n",
              "      <td>Mastercard</td>\n",
              "      <td>186</td>\n",
              "      <td>2203.36</td>\n",
              "      <td>Password</td>\n",
              "      <td>0.0959</td>\n",
              "      <td>0</td>\n",
              "      <td>1</td>\n",
              "    </tr>\n",
              "    <tr>\n",
              "      <th>2</th>\n",
              "      <td>TXN_199</td>\n",
              "      <td>USER_2734</td>\n",
              "      <td>28.96</td>\n",
              "      <td>Online</td>\n",
              "      <td>2023-06-20 15:25:00</td>\n",
              "      <td>1588.96</td>\n",
              "      <td>Tablet</td>\n",
              "      <td>Mumbai</td>\n",
              "      <td>Restaurants</td>\n",
              "      <td>0</td>\n",
              "      <td>...</td>\n",
              "      <td>14</td>\n",
              "      <td>50.01</td>\n",
              "      <td>4</td>\n",
              "      <td>Visa</td>\n",
              "      <td>226</td>\n",
              "      <td>1909.29</td>\n",
              "      <td>Biometric</td>\n",
              "      <td>0.8400</td>\n",
              "      <td>0</td>\n",
              "      <td>1</td>\n",
              "    </tr>\n",
              "    <tr>\n",
              "      <th>3</th>\n",
              "      <td>TXN_12447</td>\n",
              "      <td>USER_2617</td>\n",
              "      <td>254.32</td>\n",
              "      <td>ATM Withdrawal</td>\n",
              "      <td>2023-12-07 00:31:00</td>\n",
              "      <td>76807.20</td>\n",
              "      <td>Tablet</td>\n",
              "      <td>New York</td>\n",
              "      <td>Clothing</td>\n",
              "      <td>0</td>\n",
              "      <td>...</td>\n",
              "      <td>8</td>\n",
              "      <td>182.48</td>\n",
              "      <td>4</td>\n",
              "      <td>Visa</td>\n",
              "      <td>76</td>\n",
              "      <td>1311.86</td>\n",
              "      <td>OTP</td>\n",
              "      <td>0.7935</td>\n",
              "      <td>0</td>\n",
              "      <td>1</td>\n",
              "    </tr>\n",
              "    <tr>\n",
              "      <th>4</th>\n",
              "      <td>TXN_39489</td>\n",
              "      <td>USER_2014</td>\n",
              "      <td>31.28</td>\n",
              "      <td>POS</td>\n",
              "      <td>2023-11-11 23:44:00</td>\n",
              "      <td>92354.66</td>\n",
              "      <td>Mobile</td>\n",
              "      <td>Mumbai</td>\n",
              "      <td>Electronics</td>\n",
              "      <td>0</td>\n",
              "      <td>...</td>\n",
              "      <td>14</td>\n",
              "      <td>328.69</td>\n",
              "      <td>4</td>\n",
              "      <td>Mastercard</td>\n",
              "      <td>140</td>\n",
              "      <td>966.98</td>\n",
              "      <td>Password</td>\n",
              "      <td>0.3819</td>\n",
              "      <td>1</td>\n",
              "      <td>1</td>\n",
              "    </tr>\n",
              "  </tbody>\n",
              "</table>\n",
              "<p>5 rows × 21 columns</p>\n",
              "</div>\n",
              "    <div class=\"colab-df-buttons\">\n",
              "\n",
              "  <div class=\"colab-df-container\">\n",
              "    <button class=\"colab-df-convert\" onclick=\"convertToInteractive('df-124ea9f2-087e-40b4-825f-2f71c4155054')\"\n",
              "            title=\"Convert this dataframe to an interactive table.\"\n",
              "            style=\"display:none;\">\n",
              "\n",
              "  <svg xmlns=\"http://www.w3.org/2000/svg\" height=\"24px\" viewBox=\"0 -960 960 960\">\n",
              "    <path d=\"M120-120v-720h720v720H120Zm60-500h600v-160H180v160Zm220 220h160v-160H400v160Zm0 220h160v-160H400v160ZM180-400h160v-160H180v160Zm440 0h160v-160H620v160ZM180-180h160v-160H180v160Zm440 0h160v-160H620v160Z\"/>\n",
              "  </svg>\n",
              "    </button>\n",
              "\n",
              "  <style>\n",
              "    .colab-df-container {\n",
              "      display:flex;\n",
              "      gap: 12px;\n",
              "    }\n",
              "\n",
              "    .colab-df-convert {\n",
              "      background-color: #E8F0FE;\n",
              "      border: none;\n",
              "      border-radius: 50%;\n",
              "      cursor: pointer;\n",
              "      display: none;\n",
              "      fill: #1967D2;\n",
              "      height: 32px;\n",
              "      padding: 0 0 0 0;\n",
              "      width: 32px;\n",
              "    }\n",
              "\n",
              "    .colab-df-convert:hover {\n",
              "      background-color: #E2EBFA;\n",
              "      box-shadow: 0px 1px 2px rgba(60, 64, 67, 0.3), 0px 1px 3px 1px rgba(60, 64, 67, 0.15);\n",
              "      fill: #174EA6;\n",
              "    }\n",
              "\n",
              "    .colab-df-buttons div {\n",
              "      margin-bottom: 4px;\n",
              "    }\n",
              "\n",
              "    [theme=dark] .colab-df-convert {\n",
              "      background-color: #3B4455;\n",
              "      fill: #D2E3FC;\n",
              "    }\n",
              "\n",
              "    [theme=dark] .colab-df-convert:hover {\n",
              "      background-color: #434B5C;\n",
              "      box-shadow: 0px 1px 3px 1px rgba(0, 0, 0, 0.15);\n",
              "      filter: drop-shadow(0px 1px 2px rgba(0, 0, 0, 0.3));\n",
              "      fill: #FFFFFF;\n",
              "    }\n",
              "  </style>\n",
              "\n",
              "    <script>\n",
              "      const buttonEl =\n",
              "        document.querySelector('#df-124ea9f2-087e-40b4-825f-2f71c4155054 button.colab-df-convert');\n",
              "      buttonEl.style.display =\n",
              "        google.colab.kernel.accessAllowed ? 'block' : 'none';\n",
              "\n",
              "      async function convertToInteractive(key) {\n",
              "        const element = document.querySelector('#df-124ea9f2-087e-40b4-825f-2f71c4155054');\n",
              "        const dataTable =\n",
              "          await google.colab.kernel.invokeFunction('convertToInteractive',\n",
              "                                                    [key], {});\n",
              "        if (!dataTable) return;\n",
              "\n",
              "        const docLinkHtml = 'Like what you see? Visit the ' +\n",
              "          '<a target=\"_blank\" href=https://colab.research.google.com/notebooks/data_table.ipynb>data table notebook</a>'\n",
              "          + ' to learn more about interactive tables.';\n",
              "        element.innerHTML = '';\n",
              "        dataTable['output_type'] = 'display_data';\n",
              "        await google.colab.output.renderOutput(dataTable, element);\n",
              "        const docLink = document.createElement('div');\n",
              "        docLink.innerHTML = docLinkHtml;\n",
              "        element.appendChild(docLink);\n",
              "      }\n",
              "    </script>\n",
              "  </div>\n",
              "\n",
              "\n",
              "    <div id=\"df-06c2271c-d3f5-44e3-b88b-36e3c0ad60e5\">\n",
              "      <button class=\"colab-df-quickchart\" onclick=\"quickchart('df-06c2271c-d3f5-44e3-b88b-36e3c0ad60e5')\"\n",
              "                title=\"Suggest charts\"\n",
              "                style=\"display:none;\">\n",
              "\n",
              "<svg xmlns=\"http://www.w3.org/2000/svg\" height=\"24px\"viewBox=\"0 0 24 24\"\n",
              "     width=\"24px\">\n",
              "    <g>\n",
              "        <path d=\"M19 3H5c-1.1 0-2 .9-2 2v14c0 1.1.9 2 2 2h14c1.1 0 2-.9 2-2V5c0-1.1-.9-2-2-2zM9 17H7v-7h2v7zm4 0h-2V7h2v10zm4 0h-2v-4h2v4z\"/>\n",
              "    </g>\n",
              "</svg>\n",
              "      </button>\n",
              "\n",
              "<style>\n",
              "  .colab-df-quickchart {\n",
              "      --bg-color: #E8F0FE;\n",
              "      --fill-color: #1967D2;\n",
              "      --hover-bg-color: #E2EBFA;\n",
              "      --hover-fill-color: #174EA6;\n",
              "      --disabled-fill-color: #AAA;\n",
              "      --disabled-bg-color: #DDD;\n",
              "  }\n",
              "\n",
              "  [theme=dark] .colab-df-quickchart {\n",
              "      --bg-color: #3B4455;\n",
              "      --fill-color: #D2E3FC;\n",
              "      --hover-bg-color: #434B5C;\n",
              "      --hover-fill-color: #FFFFFF;\n",
              "      --disabled-bg-color: #3B4455;\n",
              "      --disabled-fill-color: #666;\n",
              "  }\n",
              "\n",
              "  .colab-df-quickchart {\n",
              "    background-color: var(--bg-color);\n",
              "    border: none;\n",
              "    border-radius: 50%;\n",
              "    cursor: pointer;\n",
              "    display: none;\n",
              "    fill: var(--fill-color);\n",
              "    height: 32px;\n",
              "    padding: 0;\n",
              "    width: 32px;\n",
              "  }\n",
              "\n",
              "  .colab-df-quickchart:hover {\n",
              "    background-color: var(--hover-bg-color);\n",
              "    box-shadow: 0 1px 2px rgba(60, 64, 67, 0.3), 0 1px 3px 1px rgba(60, 64, 67, 0.15);\n",
              "    fill: var(--button-hover-fill-color);\n",
              "  }\n",
              "\n",
              "  .colab-df-quickchart-complete:disabled,\n",
              "  .colab-df-quickchart-complete:disabled:hover {\n",
              "    background-color: var(--disabled-bg-color);\n",
              "    fill: var(--disabled-fill-color);\n",
              "    box-shadow: none;\n",
              "  }\n",
              "\n",
              "  .colab-df-spinner {\n",
              "    border: 2px solid var(--fill-color);\n",
              "    border-color: transparent;\n",
              "    border-bottom-color: var(--fill-color);\n",
              "    animation:\n",
              "      spin 1s steps(1) infinite;\n",
              "  }\n",
              "\n",
              "  @keyframes spin {\n",
              "    0% {\n",
              "      border-color: transparent;\n",
              "      border-bottom-color: var(--fill-color);\n",
              "      border-left-color: var(--fill-color);\n",
              "    }\n",
              "    20% {\n",
              "      border-color: transparent;\n",
              "      border-left-color: var(--fill-color);\n",
              "      border-top-color: var(--fill-color);\n",
              "    }\n",
              "    30% {\n",
              "      border-color: transparent;\n",
              "      border-left-color: var(--fill-color);\n",
              "      border-top-color: var(--fill-color);\n",
              "      border-right-color: var(--fill-color);\n",
              "    }\n",
              "    40% {\n",
              "      border-color: transparent;\n",
              "      border-right-color: var(--fill-color);\n",
              "      border-top-color: var(--fill-color);\n",
              "    }\n",
              "    60% {\n",
              "      border-color: transparent;\n",
              "      border-right-color: var(--fill-color);\n",
              "    }\n",
              "    80% {\n",
              "      border-color: transparent;\n",
              "      border-right-color: var(--fill-color);\n",
              "      border-bottom-color: var(--fill-color);\n",
              "    }\n",
              "    90% {\n",
              "      border-color: transparent;\n",
              "      border-bottom-color: var(--fill-color);\n",
              "    }\n",
              "  }\n",
              "</style>\n",
              "\n",
              "      <script>\n",
              "        async function quickchart(key) {\n",
              "          const quickchartButtonEl =\n",
              "            document.querySelector('#' + key + ' button');\n",
              "          quickchartButtonEl.disabled = true;  // To prevent multiple clicks.\n",
              "          quickchartButtonEl.classList.add('colab-df-spinner');\n",
              "          try {\n",
              "            const charts = await google.colab.kernel.invokeFunction(\n",
              "                'suggestCharts', [key], {});\n",
              "          } catch (error) {\n",
              "            console.error('Error during call to suggestCharts:', error);\n",
              "          }\n",
              "          quickchartButtonEl.classList.remove('colab-df-spinner');\n",
              "          quickchartButtonEl.classList.add('colab-df-quickchart-complete');\n",
              "        }\n",
              "        (() => {\n",
              "          let quickchartButtonEl =\n",
              "            document.querySelector('#df-06c2271c-d3f5-44e3-b88b-36e3c0ad60e5 button');\n",
              "          quickchartButtonEl.style.display =\n",
              "            google.colab.kernel.accessAllowed ? 'block' : 'none';\n",
              "        })();\n",
              "      </script>\n",
              "    </div>\n",
              "\n",
              "    </div>\n",
              "  </div>\n"
            ],
            "application/vnd.google.colaboratory.intrinsic+json": {
              "type": "dataframe",
              "variable_name": "fraud_df"
            }
          },
          "metadata": {},
          "execution_count": 5
        }
      ]
    },
    {
      "cell_type": "code",
      "source": [
        "fraud_df.columns"
      ],
      "metadata": {
        "colab": {
          "base_uri": "https://localhost:8080/"
        },
        "id": "W1Pa4VZTANZ5",
        "outputId": "48fc750a-212e-48ec-e5a6-adbedb6b9397"
      },
      "execution_count": null,
      "outputs": [
        {
          "output_type": "execute_result",
          "data": {
            "text/plain": [
              "Index(['Transaction_ID', 'User_ID', 'Transaction_Amount', 'Transaction_Type',\n",
              "       'Timestamp', 'Account_Balance', 'Device_Type', 'Location',\n",
              "       'Merchant_Category', 'IP_Address_Flag', 'Previous_Fraudulent_Activity',\n",
              "       'Daily_Transaction_Count', 'Avg_Transaction_Amount_7d',\n",
              "       'Failed_Transaction_Count_7d', 'Card_Type', 'Card_Age',\n",
              "       'Transaction_Distance', 'Authentication_Method', 'Risk_Score',\n",
              "       'Is_Weekend', 'Fraud_Label'],\n",
              "      dtype='object')"
            ]
          },
          "metadata": {},
          "execution_count": 6
        }
      ]
    },
    {
      "cell_type": "markdown",
      "source": [
        "# EDA"
      ],
      "metadata": {
        "id": "TP5yX6Ee4X8C"
      }
    },
    {
      "cell_type": "code",
      "source": [
        "# checking correlation of variables\n",
        "correlation_subset = fraud_df[['Fraud_Label', 'Risk_Score', 'Failed_Transaction_Count_7d', 'Previous_Fraudulent_Activity', 'Transaction_Distance', 'Transaction_Amount', 'Account_Balance', 'IP_Address_Flag', 'Daily_Transaction_Count', 'Card_Age', 'Is_Weekend']]\n",
        "correlation_subset.corr()"
      ],
      "metadata": {
        "colab": {
          "base_uri": "https://localhost:8080/",
          "height": 414
        },
        "id": "eL8yIINARmZe",
        "outputId": "80bfe540-649a-4c6d-b078-2aedb4e7f281"
      },
      "execution_count": null,
      "outputs": [
        {
          "output_type": "execute_result",
          "data": {
            "text/plain": [
              "                              Fraud_Label  Risk_Score  \\\n",
              "Fraud_Label                      1.000000    0.385810   \n",
              "Risk_Score                       0.385810    1.000000   \n",
              "Failed_Transaction_Count_7d      0.509871    0.000814   \n",
              "Previous_Fraudulent_Activity    -0.000718   -0.002815   \n",
              "Transaction_Distance            -0.000116   -0.001902   \n",
              "Transaction_Amount               0.001901    0.005606   \n",
              "Account_Balance                 -0.003153   -0.005262   \n",
              "IP_Address_Flag                  0.003028   -0.004064   \n",
              "Daily_Transaction_Count         -0.007065   -0.007572   \n",
              "Card_Age                        -0.003120   -0.001385   \n",
              "Is_Weekend                       0.000064   -0.005236   \n",
              "\n",
              "                              Failed_Transaction_Count_7d  \\\n",
              "Fraud_Label                                      0.509871   \n",
              "Risk_Score                                       0.000814   \n",
              "Failed_Transaction_Count_7d                      1.000000   \n",
              "Previous_Fraudulent_Activity                    -0.000352   \n",
              "Transaction_Distance                            -0.006997   \n",
              "Transaction_Amount                               0.001247   \n",
              "Account_Balance                                 -0.000186   \n",
              "IP_Address_Flag                                  0.010370   \n",
              "Daily_Transaction_Count                         -0.007820   \n",
              "Card_Age                                        -0.004570   \n",
              "Is_Weekend                                      -0.003335   \n",
              "\n",
              "                              Previous_Fraudulent_Activity  \\\n",
              "Fraud_Label                                      -0.000718   \n",
              "Risk_Score                                       -0.002815   \n",
              "Failed_Transaction_Count_7d                      -0.000352   \n",
              "Previous_Fraudulent_Activity                      1.000000   \n",
              "Transaction_Distance                              0.005740   \n",
              "Transaction_Amount                                0.001668   \n",
              "Account_Balance                                  -0.002314   \n",
              "IP_Address_Flag                                  -0.008298   \n",
              "Daily_Transaction_Count                           0.000492   \n",
              "Card_Age                                         -0.006713   \n",
              "Is_Weekend                                       -0.000473   \n",
              "\n",
              "                              Transaction_Distance  Transaction_Amount  \\\n",
              "Fraud_Label                              -0.000116            0.001901   \n",
              "Risk_Score                               -0.001902            0.005606   \n",
              "Failed_Transaction_Count_7d              -0.006997            0.001247   \n",
              "Previous_Fraudulent_Activity              0.005740            0.001668   \n",
              "Transaction_Distance                      1.000000            0.007935   \n",
              "Transaction_Amount                        0.007935            1.000000   \n",
              "Account_Balance                           0.001748           -0.002380   \n",
              "IP_Address_Flag                          -0.003941           -0.001620   \n",
              "Daily_Transaction_Count                  -0.001842            0.002149   \n",
              "Card_Age                                 -0.003339            0.002294   \n",
              "Is_Weekend                               -0.010592            0.001348   \n",
              "\n",
              "                              Account_Balance  IP_Address_Flag  \\\n",
              "Fraud_Label                         -0.003153         0.003028   \n",
              "Risk_Score                          -0.005262        -0.004064   \n",
              "Failed_Transaction_Count_7d         -0.000186         0.010370   \n",
              "Previous_Fraudulent_Activity        -0.002314        -0.008298   \n",
              "Transaction_Distance                 0.001748        -0.003941   \n",
              "Transaction_Amount                  -0.002380        -0.001620   \n",
              "Account_Balance                      1.000000        -0.001210   \n",
              "IP_Address_Flag                     -0.001210         1.000000   \n",
              "Daily_Transaction_Count              0.006041         0.001815   \n",
              "Card_Age                             0.000717        -0.003143   \n",
              "Is_Weekend                           0.000557         0.004979   \n",
              "\n",
              "                              Daily_Transaction_Count  Card_Age  Is_Weekend  \n",
              "Fraud_Label                                 -0.007065 -0.003120    0.000064  \n",
              "Risk_Score                                  -0.007572 -0.001385   -0.005236  \n",
              "Failed_Transaction_Count_7d                 -0.007820 -0.004570   -0.003335  \n",
              "Previous_Fraudulent_Activity                 0.000492 -0.006713   -0.000473  \n",
              "Transaction_Distance                        -0.001842 -0.003339   -0.010592  \n",
              "Transaction_Amount                           0.002149  0.002294    0.001348  \n",
              "Account_Balance                              0.006041  0.000717    0.000557  \n",
              "IP_Address_Flag                              0.001815 -0.003143    0.004979  \n",
              "Daily_Transaction_Count                      1.000000 -0.001516   -0.006148  \n",
              "Card_Age                                    -0.001516  1.000000    0.003406  \n",
              "Is_Weekend                                  -0.006148  0.003406    1.000000  "
            ],
            "text/html": [
              "\n",
              "  <div id=\"df-0ea9d138-2efe-492e-ac9b-90511a504aa5\" class=\"colab-df-container\">\n",
              "    <div>\n",
              "<style scoped>\n",
              "    .dataframe tbody tr th:only-of-type {\n",
              "        vertical-align: middle;\n",
              "    }\n",
              "\n",
              "    .dataframe tbody tr th {\n",
              "        vertical-align: top;\n",
              "    }\n",
              "\n",
              "    .dataframe thead th {\n",
              "        text-align: right;\n",
              "    }\n",
              "</style>\n",
              "<table border=\"1\" class=\"dataframe\">\n",
              "  <thead>\n",
              "    <tr style=\"text-align: right;\">\n",
              "      <th></th>\n",
              "      <th>Fraud_Label</th>\n",
              "      <th>Risk_Score</th>\n",
              "      <th>Failed_Transaction_Count_7d</th>\n",
              "      <th>Previous_Fraudulent_Activity</th>\n",
              "      <th>Transaction_Distance</th>\n",
              "      <th>Transaction_Amount</th>\n",
              "      <th>Account_Balance</th>\n",
              "      <th>IP_Address_Flag</th>\n",
              "      <th>Daily_Transaction_Count</th>\n",
              "      <th>Card_Age</th>\n",
              "      <th>Is_Weekend</th>\n",
              "    </tr>\n",
              "  </thead>\n",
              "  <tbody>\n",
              "    <tr>\n",
              "      <th>Fraud_Label</th>\n",
              "      <td>1.000000</td>\n",
              "      <td>0.385810</td>\n",
              "      <td>0.509871</td>\n",
              "      <td>-0.000718</td>\n",
              "      <td>-0.000116</td>\n",
              "      <td>0.001901</td>\n",
              "      <td>-0.003153</td>\n",
              "      <td>0.003028</td>\n",
              "      <td>-0.007065</td>\n",
              "      <td>-0.003120</td>\n",
              "      <td>0.000064</td>\n",
              "    </tr>\n",
              "    <tr>\n",
              "      <th>Risk_Score</th>\n",
              "      <td>0.385810</td>\n",
              "      <td>1.000000</td>\n",
              "      <td>0.000814</td>\n",
              "      <td>-0.002815</td>\n",
              "      <td>-0.001902</td>\n",
              "      <td>0.005606</td>\n",
              "      <td>-0.005262</td>\n",
              "      <td>-0.004064</td>\n",
              "      <td>-0.007572</td>\n",
              "      <td>-0.001385</td>\n",
              "      <td>-0.005236</td>\n",
              "    </tr>\n",
              "    <tr>\n",
              "      <th>Failed_Transaction_Count_7d</th>\n",
              "      <td>0.509871</td>\n",
              "      <td>0.000814</td>\n",
              "      <td>1.000000</td>\n",
              "      <td>-0.000352</td>\n",
              "      <td>-0.006997</td>\n",
              "      <td>0.001247</td>\n",
              "      <td>-0.000186</td>\n",
              "      <td>0.010370</td>\n",
              "      <td>-0.007820</td>\n",
              "      <td>-0.004570</td>\n",
              "      <td>-0.003335</td>\n",
              "    </tr>\n",
              "    <tr>\n",
              "      <th>Previous_Fraudulent_Activity</th>\n",
              "      <td>-0.000718</td>\n",
              "      <td>-0.002815</td>\n",
              "      <td>-0.000352</td>\n",
              "      <td>1.000000</td>\n",
              "      <td>0.005740</td>\n",
              "      <td>0.001668</td>\n",
              "      <td>-0.002314</td>\n",
              "      <td>-0.008298</td>\n",
              "      <td>0.000492</td>\n",
              "      <td>-0.006713</td>\n",
              "      <td>-0.000473</td>\n",
              "    </tr>\n",
              "    <tr>\n",
              "      <th>Transaction_Distance</th>\n",
              "      <td>-0.000116</td>\n",
              "      <td>-0.001902</td>\n",
              "      <td>-0.006997</td>\n",
              "      <td>0.005740</td>\n",
              "      <td>1.000000</td>\n",
              "      <td>0.007935</td>\n",
              "      <td>0.001748</td>\n",
              "      <td>-0.003941</td>\n",
              "      <td>-0.001842</td>\n",
              "      <td>-0.003339</td>\n",
              "      <td>-0.010592</td>\n",
              "    </tr>\n",
              "    <tr>\n",
              "      <th>Transaction_Amount</th>\n",
              "      <td>0.001901</td>\n",
              "      <td>0.005606</td>\n",
              "      <td>0.001247</td>\n",
              "      <td>0.001668</td>\n",
              "      <td>0.007935</td>\n",
              "      <td>1.000000</td>\n",
              "      <td>-0.002380</td>\n",
              "      <td>-0.001620</td>\n",
              "      <td>0.002149</td>\n",
              "      <td>0.002294</td>\n",
              "      <td>0.001348</td>\n",
              "    </tr>\n",
              "    <tr>\n",
              "      <th>Account_Balance</th>\n",
              "      <td>-0.003153</td>\n",
              "      <td>-0.005262</td>\n",
              "      <td>-0.000186</td>\n",
              "      <td>-0.002314</td>\n",
              "      <td>0.001748</td>\n",
              "      <td>-0.002380</td>\n",
              "      <td>1.000000</td>\n",
              "      <td>-0.001210</td>\n",
              "      <td>0.006041</td>\n",
              "      <td>0.000717</td>\n",
              "      <td>0.000557</td>\n",
              "    </tr>\n",
              "    <tr>\n",
              "      <th>IP_Address_Flag</th>\n",
              "      <td>0.003028</td>\n",
              "      <td>-0.004064</td>\n",
              "      <td>0.010370</td>\n",
              "      <td>-0.008298</td>\n",
              "      <td>-0.003941</td>\n",
              "      <td>-0.001620</td>\n",
              "      <td>-0.001210</td>\n",
              "      <td>1.000000</td>\n",
              "      <td>0.001815</td>\n",
              "      <td>-0.003143</td>\n",
              "      <td>0.004979</td>\n",
              "    </tr>\n",
              "    <tr>\n",
              "      <th>Daily_Transaction_Count</th>\n",
              "      <td>-0.007065</td>\n",
              "      <td>-0.007572</td>\n",
              "      <td>-0.007820</td>\n",
              "      <td>0.000492</td>\n",
              "      <td>-0.001842</td>\n",
              "      <td>0.002149</td>\n",
              "      <td>0.006041</td>\n",
              "      <td>0.001815</td>\n",
              "      <td>1.000000</td>\n",
              "      <td>-0.001516</td>\n",
              "      <td>-0.006148</td>\n",
              "    </tr>\n",
              "    <tr>\n",
              "      <th>Card_Age</th>\n",
              "      <td>-0.003120</td>\n",
              "      <td>-0.001385</td>\n",
              "      <td>-0.004570</td>\n",
              "      <td>-0.006713</td>\n",
              "      <td>-0.003339</td>\n",
              "      <td>0.002294</td>\n",
              "      <td>0.000717</td>\n",
              "      <td>-0.003143</td>\n",
              "      <td>-0.001516</td>\n",
              "      <td>1.000000</td>\n",
              "      <td>0.003406</td>\n",
              "    </tr>\n",
              "    <tr>\n",
              "      <th>Is_Weekend</th>\n",
              "      <td>0.000064</td>\n",
              "      <td>-0.005236</td>\n",
              "      <td>-0.003335</td>\n",
              "      <td>-0.000473</td>\n",
              "      <td>-0.010592</td>\n",
              "      <td>0.001348</td>\n",
              "      <td>0.000557</td>\n",
              "      <td>0.004979</td>\n",
              "      <td>-0.006148</td>\n",
              "      <td>0.003406</td>\n",
              "      <td>1.000000</td>\n",
              "    </tr>\n",
              "  </tbody>\n",
              "</table>\n",
              "</div>\n",
              "    <div class=\"colab-df-buttons\">\n",
              "\n",
              "  <div class=\"colab-df-container\">\n",
              "    <button class=\"colab-df-convert\" onclick=\"convertToInteractive('df-0ea9d138-2efe-492e-ac9b-90511a504aa5')\"\n",
              "            title=\"Convert this dataframe to an interactive table.\"\n",
              "            style=\"display:none;\">\n",
              "\n",
              "  <svg xmlns=\"http://www.w3.org/2000/svg\" height=\"24px\" viewBox=\"0 -960 960 960\">\n",
              "    <path d=\"M120-120v-720h720v720H120Zm60-500h600v-160H180v160Zm220 220h160v-160H400v160Zm0 220h160v-160H400v160ZM180-400h160v-160H180v160Zm440 0h160v-160H620v160ZM180-180h160v-160H180v160Zm440 0h160v-160H620v160Z\"/>\n",
              "  </svg>\n",
              "    </button>\n",
              "\n",
              "  <style>\n",
              "    .colab-df-container {\n",
              "      display:flex;\n",
              "      gap: 12px;\n",
              "    }\n",
              "\n",
              "    .colab-df-convert {\n",
              "      background-color: #E8F0FE;\n",
              "      border: none;\n",
              "      border-radius: 50%;\n",
              "      cursor: pointer;\n",
              "      display: none;\n",
              "      fill: #1967D2;\n",
              "      height: 32px;\n",
              "      padding: 0 0 0 0;\n",
              "      width: 32px;\n",
              "    }\n",
              "\n",
              "    .colab-df-convert:hover {\n",
              "      background-color: #E2EBFA;\n",
              "      box-shadow: 0px 1px 2px rgba(60, 64, 67, 0.3), 0px 1px 3px 1px rgba(60, 64, 67, 0.15);\n",
              "      fill: #174EA6;\n",
              "    }\n",
              "\n",
              "    .colab-df-buttons div {\n",
              "      margin-bottom: 4px;\n",
              "    }\n",
              "\n",
              "    [theme=dark] .colab-df-convert {\n",
              "      background-color: #3B4455;\n",
              "      fill: #D2E3FC;\n",
              "    }\n",
              "\n",
              "    [theme=dark] .colab-df-convert:hover {\n",
              "      background-color: #434B5C;\n",
              "      box-shadow: 0px 1px 3px 1px rgba(0, 0, 0, 0.15);\n",
              "      filter: drop-shadow(0px 1px 2px rgba(0, 0, 0, 0.3));\n",
              "      fill: #FFFFFF;\n",
              "    }\n",
              "  </style>\n",
              "\n",
              "    <script>\n",
              "      const buttonEl =\n",
              "        document.querySelector('#df-0ea9d138-2efe-492e-ac9b-90511a504aa5 button.colab-df-convert');\n",
              "      buttonEl.style.display =\n",
              "        google.colab.kernel.accessAllowed ? 'block' : 'none';\n",
              "\n",
              "      async function convertToInteractive(key) {\n",
              "        const element = document.querySelector('#df-0ea9d138-2efe-492e-ac9b-90511a504aa5');\n",
              "        const dataTable =\n",
              "          await google.colab.kernel.invokeFunction('convertToInteractive',\n",
              "                                                    [key], {});\n",
              "        if (!dataTable) return;\n",
              "\n",
              "        const docLinkHtml = 'Like what you see? Visit the ' +\n",
              "          '<a target=\"_blank\" href=https://colab.research.google.com/notebooks/data_table.ipynb>data table notebook</a>'\n",
              "          + ' to learn more about interactive tables.';\n",
              "        element.innerHTML = '';\n",
              "        dataTable['output_type'] = 'display_data';\n",
              "        await google.colab.output.renderOutput(dataTable, element);\n",
              "        const docLink = document.createElement('div');\n",
              "        docLink.innerHTML = docLinkHtml;\n",
              "        element.appendChild(docLink);\n",
              "      }\n",
              "    </script>\n",
              "  </div>\n",
              "\n",
              "\n",
              "    <div id=\"df-673fcfa5-8d32-42f0-9463-b162d76bcbf5\">\n",
              "      <button class=\"colab-df-quickchart\" onclick=\"quickchart('df-673fcfa5-8d32-42f0-9463-b162d76bcbf5')\"\n",
              "                title=\"Suggest charts\"\n",
              "                style=\"display:none;\">\n",
              "\n",
              "<svg xmlns=\"http://www.w3.org/2000/svg\" height=\"24px\"viewBox=\"0 0 24 24\"\n",
              "     width=\"24px\">\n",
              "    <g>\n",
              "        <path d=\"M19 3H5c-1.1 0-2 .9-2 2v14c0 1.1.9 2 2 2h14c1.1 0 2-.9 2-2V5c0-1.1-.9-2-2-2zM9 17H7v-7h2v7zm4 0h-2V7h2v10zm4 0h-2v-4h2v4z\"/>\n",
              "    </g>\n",
              "</svg>\n",
              "      </button>\n",
              "\n",
              "<style>\n",
              "  .colab-df-quickchart {\n",
              "      --bg-color: #E8F0FE;\n",
              "      --fill-color: #1967D2;\n",
              "      --hover-bg-color: #E2EBFA;\n",
              "      --hover-fill-color: #174EA6;\n",
              "      --disabled-fill-color: #AAA;\n",
              "      --disabled-bg-color: #DDD;\n",
              "  }\n",
              "\n",
              "  [theme=dark] .colab-df-quickchart {\n",
              "      --bg-color: #3B4455;\n",
              "      --fill-color: #D2E3FC;\n",
              "      --hover-bg-color: #434B5C;\n",
              "      --hover-fill-color: #FFFFFF;\n",
              "      --disabled-bg-color: #3B4455;\n",
              "      --disabled-fill-color: #666;\n",
              "  }\n",
              "\n",
              "  .colab-df-quickchart {\n",
              "    background-color: var(--bg-color);\n",
              "    border: none;\n",
              "    border-radius: 50%;\n",
              "    cursor: pointer;\n",
              "    display: none;\n",
              "    fill: var(--fill-color);\n",
              "    height: 32px;\n",
              "    padding: 0;\n",
              "    width: 32px;\n",
              "  }\n",
              "\n",
              "  .colab-df-quickchart:hover {\n",
              "    background-color: var(--hover-bg-color);\n",
              "    box-shadow: 0 1px 2px rgba(60, 64, 67, 0.3), 0 1px 3px 1px rgba(60, 64, 67, 0.15);\n",
              "    fill: var(--button-hover-fill-color);\n",
              "  }\n",
              "\n",
              "  .colab-df-quickchart-complete:disabled,\n",
              "  .colab-df-quickchart-complete:disabled:hover {\n",
              "    background-color: var(--disabled-bg-color);\n",
              "    fill: var(--disabled-fill-color);\n",
              "    box-shadow: none;\n",
              "  }\n",
              "\n",
              "  .colab-df-spinner {\n",
              "    border: 2px solid var(--fill-color);\n",
              "    border-color: transparent;\n",
              "    border-bottom-color: var(--fill-color);\n",
              "    animation:\n",
              "      spin 1s steps(1) infinite;\n",
              "  }\n",
              "\n",
              "  @keyframes spin {\n",
              "    0% {\n",
              "      border-color: transparent;\n",
              "      border-bottom-color: var(--fill-color);\n",
              "      border-left-color: var(--fill-color);\n",
              "    }\n",
              "    20% {\n",
              "      border-color: transparent;\n",
              "      border-left-color: var(--fill-color);\n",
              "      border-top-color: var(--fill-color);\n",
              "    }\n",
              "    30% {\n",
              "      border-color: transparent;\n",
              "      border-left-color: var(--fill-color);\n",
              "      border-top-color: var(--fill-color);\n",
              "      border-right-color: var(--fill-color);\n",
              "    }\n",
              "    40% {\n",
              "      border-color: transparent;\n",
              "      border-right-color: var(--fill-color);\n",
              "      border-top-color: var(--fill-color);\n",
              "    }\n",
              "    60% {\n",
              "      border-color: transparent;\n",
              "      border-right-color: var(--fill-color);\n",
              "    }\n",
              "    80% {\n",
              "      border-color: transparent;\n",
              "      border-right-color: var(--fill-color);\n",
              "      border-bottom-color: var(--fill-color);\n",
              "    }\n",
              "    90% {\n",
              "      border-color: transparent;\n",
              "      border-bottom-color: var(--fill-color);\n",
              "    }\n",
              "  }\n",
              "</style>\n",
              "\n",
              "      <script>\n",
              "        async function quickchart(key) {\n",
              "          const quickchartButtonEl =\n",
              "            document.querySelector('#' + key + ' button');\n",
              "          quickchartButtonEl.disabled = true;  // To prevent multiple clicks.\n",
              "          quickchartButtonEl.classList.add('colab-df-spinner');\n",
              "          try {\n",
              "            const charts = await google.colab.kernel.invokeFunction(\n",
              "                'suggestCharts', [key], {});\n",
              "          } catch (error) {\n",
              "            console.error('Error during call to suggestCharts:', error);\n",
              "          }\n",
              "          quickchartButtonEl.classList.remove('colab-df-spinner');\n",
              "          quickchartButtonEl.classList.add('colab-df-quickchart-complete');\n",
              "        }\n",
              "        (() => {\n",
              "          let quickchartButtonEl =\n",
              "            document.querySelector('#df-673fcfa5-8d32-42f0-9463-b162d76bcbf5 button');\n",
              "          quickchartButtonEl.style.display =\n",
              "            google.colab.kernel.accessAllowed ? 'block' : 'none';\n",
              "        })();\n",
              "      </script>\n",
              "    </div>\n",
              "\n",
              "    </div>\n",
              "  </div>\n"
            ],
            "application/vnd.google.colaboratory.intrinsic+json": {
              "type": "dataframe",
              "summary": "{\n  \"name\": \"correlation_subset\",\n  \"rows\": 11,\n  \"fields\": [\n    {\n      \"column\": \"Fraud_Label\",\n      \"properties\": {\n        \"dtype\": \"number\",\n        \"std\": 0.32944883799060853,\n        \"min\": -0.007064583509589346,\n        \"max\": 1.0,\n        \"num_unique_values\": 11,\n        \"samples\": [\n          0.0019012078927750642,\n          1.0,\n          -0.0031202658387743725\n        ],\n        \"semantic_type\": \"\",\n        \"description\": \"\"\n      }\n    },\n    {\n      \"column\": \"Risk_Score\",\n      \"properties\": {\n        \"dtype\": \"number\",\n        \"std\": 0.31303176065946436,\n        \"min\": -0.0075715945424618385,\n        \"max\": 1.0,\n        \"num_unique_values\": 11,\n        \"samples\": [\n          0.005605931357841874,\n          0.38580997241465204,\n          -0.0013849540405884507\n        ],\n        \"semantic_type\": \"\",\n        \"description\": \"\"\n      }\n    },\n    {\n      \"column\": \"Failed_Transaction_Count_7d\",\n      \"properties\": {\n        \"dtype\": \"number\",\n        \"std\": 0.32495175315120883,\n        \"min\": -0.007820318397579327,\n        \"max\": 1.0,\n        \"num_unique_values\": 11,\n        \"samples\": [\n          0.0012474726896012024,\n          0.50987124205072,\n          -0.004570386801685378\n        ],\n        \"semantic_type\": \"\",\n        \"description\": \"\"\n      }\n    },\n    {\n      \"column\": \"Previous_Fraudulent_Activity\",\n      \"properties\": {\n        \"dtype\": \"number\",\n        \"std\": 0.3019509279893402,\n        \"min\": -0.008297817558746905,\n        \"max\": 1.0,\n        \"num_unique_values\": 11,\n        \"samples\": [\n          0.0016675204037871997,\n          -0.0007178953551936929,\n          -0.006712922923232556\n        ],\n        \"semantic_type\": \"\",\n        \"description\": \"\"\n      }\n    },\n    {\n      \"column\": \"Transaction_Distance\",\n      \"properties\": {\n        \"dtype\": \"number\",\n        \"std\": 0.30195826313314916,\n        \"min\": -0.01059182280912683,\n        \"max\": 1.0,\n        \"num_unique_values\": 11,\n        \"samples\": [\n          0.007935110161983951,\n          -0.0001155019423763058,\n          -0.0033392761297765844\n        ],\n        \"semantic_type\": \"\",\n        \"description\": \"\"\n      }\n    },\n    {\n      \"column\": \"Transaction_Amount\",\n      \"properties\": {\n        \"dtype\": \"number\",\n        \"std\": 0.3009174471421979,\n        \"min\": -0.0023803270477549435,\n        \"max\": 1.0,\n        \"num_unique_values\": 11,\n        \"samples\": [\n          1.0,\n          0.0019012078927750642,\n          0.0022942402031705046\n        ],\n        \"semantic_type\": \"\",\n        \"description\": \"\"\n      }\n    },\n    {\n      \"column\": \"Account_Balance\",\n      \"properties\": {\n        \"dtype\": \"number\",\n        \"std\": 0.30168996499174033,\n        \"min\": -0.005261681204063927,\n        \"max\": 1.0,\n        \"num_unique_values\": 11,\n        \"samples\": [\n          -0.0023803270477549435,\n          -0.003153440788659456,\n          0.0007174990115770671\n        ],\n        \"semantic_type\": \"\",\n        \"description\": \"\"\n      }\n    },\n    {\n      \"column\": \"IP_Address_Flag\",\n      \"properties\": {\n        \"dtype\": \"number\",\n        \"std\": 0.3016171702968918,\n        \"min\": -0.008297817558746905,\n        \"max\": 1.0,\n        \"num_unique_values\": 11,\n        \"samples\": [\n          -0.0016202327986123677,\n          0.0030276466210912858,\n          -0.003142513905680293\n        ],\n        \"semantic_type\": \"\",\n        \"description\": \"\"\n      }\n    },\n    {\n      \"column\": \"Daily_Transaction_Count\",\n      \"properties\": {\n        \"dtype\": \"number\",\n        \"std\": 0.3021933841027594,\n        \"min\": -0.007820318397579327,\n        \"max\": 1.0,\n        \"num_unique_values\": 11,\n        \"samples\": [\n          0.002148594131136601,\n          -0.007064583509589346,\n          -0.0015161578324731115\n        ],\n        \"semantic_type\": \"\",\n        \"description\": \"\"\n      }\n    },\n    {\n      \"column\": \"Card_Age\",\n      \"properties\": {\n        \"dtype\": \"number\",\n        \"std\": 0.3020496217727486,\n        \"min\": -0.006712922923232556,\n        \"max\": 1.0,\n        \"num_unique_values\": 11,\n        \"samples\": [\n          0.0022942402031705046,\n          -0.0031202658387743725,\n          1.0\n        ],\n        \"semantic_type\": \"\",\n        \"description\": \"\"\n      }\n    },\n    {\n      \"column\": \"Is_Weekend\",\n      \"properties\": {\n        \"dtype\": \"number\",\n        \"std\": 0.3020102475743156,\n        \"min\": -0.01059182280912683,\n        \"max\": 1.0,\n        \"num_unique_values\": 11,\n        \"samples\": [\n          0.0013482967999745071,\n          6.395775343742071e-05,\n          0.0034060380850723586\n        ],\n        \"semantic_type\": \"\",\n        \"description\": \"\"\n      }\n    }\n  ]\n}"
            }
          },
          "metadata": {},
          "execution_count": 7
        }
      ]
    },
    {
      "cell_type": "markdown",
      "source": [
        "Research Question: What variables correlate to whether or not a transaction is fraudulent? Using these variables, can we predict whether or not a transaction is fraudulent?"
      ],
      "metadata": {
        "id": "G1bM-B-H7WEY"
      }
    },
    {
      "cell_type": "markdown",
      "source": [
        "Risk score and failed tranaction count have the highest correlation with fraud label."
      ],
      "metadata": {
        "id": "5h9ILszRg2Ry"
      }
    },
    {
      "cell_type": "code",
      "source": [
        "# visualize relationship between risk score and fraud label\n",
        "plt.scatter(fraud_df['Risk_Score'], fraud_df['Fraud_Label'])\n",
        "plt.xlabel('Risk Score')\n",
        "plt.ylabel('Fraud (1) or Not Fraud (0)')\n",
        "plt.title('Relationship between Risk Score and Fraud Label')\n",
        "plt.show()"
      ],
      "metadata": {
        "colab": {
          "base_uri": "https://localhost:8080/",
          "height": 472
        },
        "id": "nQ32WhOTVJNo",
        "outputId": "319a5a8b-4707-401d-c516-39dd6730d47b"
      },
      "execution_count": null,
      "outputs": [
        {
          "output_type": "display_data",
          "data": {
            "text/plain": [
              "<Figure size 640x480 with 1 Axes>"
            ],
            "image/png": "[encoded data removed]"
          },
          "metadata": {}
        }
      ]
    },
    {
      "cell_type": "code",
      "source": [
        "# visualize relationship between failed transactions and fraud label\n",
        "\n",
        "plt.scatter(fraud_df['Failed_Transaction_Count_7d'], fraud_df['Fraud_Label'])\n",
        "plt.xlabel('Failed Transaction Count')\n",
        "plt.ylabel('Fraud (1) or Not Fraud (0)')\n",
        "plt.title('Relationship Between Failed Transaction Count and Fraud Label')\n",
        "plt.show()"
      ],
      "metadata": {
        "colab": {
          "base_uri": "https://localhost:8080/",
          "height": 472
        },
        "id": "oC3PomMYhMky",
        "outputId": "663af056-1955-405e-c97b-463ce1a105e7"
      },
      "execution_count": null,
      "outputs": [
        {
          "output_type": "display_data",
          "data": {
            "text/plain": [
              "<Figure size 640x480 with 1 Axes>"
            ],
            "image/png": "[encoded data removed]"
          },
          "metadata": {}
        }
      ]
    },
    {
      "cell_type": "code",
      "source": [
        "plt.scatter(fraud_df['Fraud_Label'], fraud_df['Failed_Transaction_Count_7d'])\n",
        "plt.xlabel('Fraud (1) or Not Fraud (0)')\n",
        "plt.ylabel('Previous Fraudulent Activity')\n",
        "plt.title('Previous Fraudulent Activity for Fraud vs. Not Fraud')\n",
        "plt.show()"
      ],
      "metadata": {
        "colab": {
          "base_uri": "https://localhost:8080/",
          "height": 472
        },
        "id": "qw9j-k7KgJb6",
        "outputId": "6417f7f9-eaad-4bee-a83c-82ab5c85253e"
      },
      "execution_count": null,
      "outputs": [
        {
          "output_type": "display_data",
          "data": {
            "text/plain": [
              "<Figure size 640x480 with 1 Axes>"
            ],
            "image/png": "[encoded data removed]"
          },
          "metadata": {}
        }
      ]
    },
    {
      "cell_type": "code",
      "source": [
        "# visualize the transaction amount for fraudulent vs. not fraudulent\n",
        "plt.scatter(fraud_df['Fraud_Label'], fraud_df['Transaction_Amount'])\n",
        "plt.xlabel('Fraud (1) or Not Fraud (0)')\n",
        "plt.ylabel('Transaction Amount')\n",
        "plt.title('Transaction Amount for Fraud vs. Not Fraud')\n",
        "plt.show()"
      ],
      "metadata": {
        "colab": {
          "base_uri": "https://localhost:8080/",
          "height": 472
        },
        "id": "dnBVWcrtccR6",
        "outputId": "653d48b2-acc3-44c5-f937-ff138dd9cc3c"
      },
      "execution_count": null,
      "outputs": [
        {
          "output_type": "display_data",
          "data": {
            "text/plain": [
              "<Figure size 640x480 with 1 Axes>"
            ],
            "image/png": "[encoded data removed]"
          },
          "metadata": {}
        }
      ]
    },
    {
      "cell_type": "code",
      "source": [
        "# visualize the transaction distance for fraud vs. not fraud\n",
        "plt.scatter(fraud_df['Fraud_Label'], fraud_df['Transaction_Distance'])\n",
        "plt.xlabel('Fraud (1) or Not Fraud (0)')\n",
        "plt.ylabel('Transaction Distance')\n",
        "plt.title('Transaction Distance for Fraud vs. Not Fraud')\n",
        "plt.show()"
      ],
      "metadata": {
        "colab": {
          "base_uri": "https://localhost:8080/",
          "height": 472
        },
        "id": "Q1j0AlPSeU2r",
        "outputId": "7df7e071-33ad-4ce0-b4a5-f8ac91ac9652"
      },
      "execution_count": null,
      "outputs": [
        {
          "output_type": "display_data",
          "data": {
            "text/plain": [
              "<Figure size 640x480 with 1 Axes>"
            ],
            "image/png": "[encoded data removed]"
          },
          "metadata": {}
        }
      ]
    },
    {
      "cell_type": "code",
      "source": [
        "plt.scatter(fraud_df['Fraud_Label'], fraud_df['Account_Balance'])\n",
        "plt.xlabel('Fraud (1) or Not Fraud (0)')\n",
        "plt.ylabel('Account Balance')\n",
        "plt.title('Account Balance for Fraud vs. Not Fraud')\n",
        "plt.show()"
      ],
      "metadata": {
        "colab": {
          "base_uri": "https://localhost:8080/",
          "height": 472
        },
        "id": "NiyBckrYgCCh",
        "outputId": "b455ad6b-6ec8-41aa-e804-968b13c4bc48"
      },
      "execution_count": null,
      "outputs": [
        {
          "output_type": "display_data",
          "data": {
            "text/plain": [
              "<Figure size 640x480 with 1 Axes>"
            ],
            "image/png": "[encoded data removed]"
          },
          "metadata": {}
        }
      ]
    },
    {
      "cell_type": "code",
      "source": [
        "plt.bar(fraud_df['Fraud_Label'], fraud_df['Failed_Transaction_Count_7d'])\n",
        "plt.xticks([0, 1], ['Not Fraud', 'Fraud'])\n",
        "plt.xlabel('Fraud (1) or Not Fraud (0)')\n",
        "plt.ylabel('Failed Transaction Count in 7 Days')\n",
        "plt.title('Failed Transaction Count for Fraud vs. Not Fraud')\n",
        "plt.show()"
      ],
      "metadata": {
        "colab": {
          "base_uri": "https://localhost:8080/",
          "height": 472
        },
        "id": "Cjo3YppIYkLS",
        "outputId": "62e7cad1-45ed-43c4-cb9f-d03a8d6ad2f7"
      },
      "execution_count": null,
      "outputs": [
        {
          "output_type": "display_data",
          "data": {
            "text/plain": [
              "<Figure size 640x480 with 1 Axes>"
            ],
            "image/png": "[encoded data removed]"
          },
          "metadata": {}
        }
      ]
    },
    {
      "cell_type": "markdown",
      "source": [
        "It's hard to tell whether or not a transaction is fraudulent just from risk score or failed transaction count, so I will create a machine learning model to determine whether or not a transaction is fraudulent."
      ],
      "metadata": {
        "id": "ETSNjBg36BKN"
      }
    },
    {
      "cell_type": "markdown",
      "source": [
        "# Creating Machine Learning Model"
      ],
      "metadata": {
        "id": "K-4eOZHf5bpO"
      }
    },
    {
      "cell_type": "code",
      "source": [
        "# creating independent and dependent variables\n",
        "x = fraud_df[['Risk_Score', 'Failed_Transaction_Count_7d']]\n",
        "y = fraud_df['Fraud_Label']\n",
        "\n",
        "# create a scaler object\n",
        "scaler = StandardScaler()\n",
        "\n",
        "# fit and transform the data\n",
        "x_scaled = scaler.fit_transform(x)\n",
        "\n",
        "# using RandomUnderSampler to balance the dataset\n",
        "undersampler = RandomUnderSampler(sampling_strategy='auto', random_state=42)\n",
        "x_resampled, y_resampled = undersampler.fit_resample(x, y)\n",
        "\n",
        "# splitting data\n",
        "x_train, x_test, y_train, y_test = train_test_split(x_resampled, y_resampled, test_size=0.2, random_state=42)\n",
        "\n",
        "#initializing model\n",
        "model = LogisticRegression()\n",
        "\n",
        "# training model\n",
        "model.fit(x_train, y_train)\n",
        "\n",
        "# making predictions\n",
        "y_pred = model.predict(x_test)\n",
        "\n",
        "# evaluating model\n",
        "accuracy = metrics.accuracy_score(y_test, y_pred)\n",
        "print('Accuracy Score: ', accuracy)"
      ],
      "metadata": {
        "colab": {
          "base_uri": "https://localhost:8080/"
        },
        "id": "TchjUy5CXLTZ",
        "outputId": "43e4cea8-17c4-44ca-a5e1-a03c4cabf777"
      },
      "execution_count": null,
      "outputs": [
        {
          "output_type": "stream",
          "name": "stdout",
          "text": [
            "Accuracy Score:  0.7901042477049945\n"
          ]
        }
      ]
    },
    {
      "cell_type": "code",
      "source": [
        "y_resampled.value_counts()"
      ],
      "metadata": {
        "id": "rxpY-7Hq4quH"
      },
      "execution_count": null,
      "outputs": []
    },
    {
      "cell_type": "markdown",
      "source": [
        "# Evaluating Model"
      ],
      "metadata": {
        "id": "3ngw9yV28EYP"
      }
    },
    {
      "cell_type": "code",
      "source": [
        "# creating classification report\n",
        "print(metrics.classification_report(y_test, y_pred))"
      ],
      "metadata": {
        "colab": {
          "base_uri": "https://localhost:8080/"
        },
        "id": "FgGPYYlgjiAQ",
        "outputId": "a9733350-e34a-45ea-8ccc-79aa39b206f7"
      },
      "execution_count": null,
      "outputs": [
        {
          "output_type": "stream",
          "name": "stdout",
          "text": [
            "              precision    recall  f1-score   support\n",
            "\n",
            "           0       0.80      0.78      0.79      3273\n",
            "           1       0.78      0.80      0.79      3154\n",
            "\n",
            "    accuracy                           0.79      6427\n",
            "   macro avg       0.79      0.79      0.79      6427\n",
            "weighted avg       0.79      0.79      0.79      6427\n",
            "\n"
          ]
        }
      ]
    },
    {
      "cell_type": "code",
      "source": [
        "# creating confusion matrix\n",
        "metrics.ConfusionMatrixDisplay.from_predictions(y_test, y_pred, display_labels = ['Fraud', 'Not Fraud'])"
      ],
      "metadata": {
        "colab": {
          "base_uri": "https://localhost:8080/",
          "height": 466
        },
        "id": "8GNJ7dOZZk_s",
        "outputId": "e2ba2a7e-bb64-4bde-99a6-33baec63a620"
      },
      "execution_count": null,
      "outputs": [
        {
          "output_type": "execute_result",
          "data": {
            "text/plain": [
              "<sklearn.metrics._plot.confusion_matrix.ConfusionMatrixDisplay at 0x7e9749fd99d0>"
            ]
          },
          "metadata": {},
          "execution_count": 20
        },
        {
          "output_type": "display_data",
          "data": {
            "text/plain": [
              "<Figure size 640x480 with 2 Axes>"
            ],
            "image/png": "[encoded data removed]"
          },
          "metadata": {}
        }
      ]
    },
    {
      "cell_type": "code",
      "source": [
        "# showcasing coefficients\n",
        "print(model.coef_)"
      ],
      "metadata": {
        "colab": {
          "base_uri": "https://localhost:8080/"
        },
        "id": "3uBmmhdyb_8z",
        "outputId": "240721aa-4785-49c8-956d-4f74719f8ca5"
      },
      "execution_count": null,
      "outputs": [
        {
          "output_type": "stream",
          "name": "stdout",
          "text": [
            "[[5.55373136 1.35755803]]\n"
          ]
        }
      ]
    },
    {
      "cell_type": "markdown",
      "source": [
        "My model was around 79% accurate at determining whether or not a transaction was fraudulent."
      ],
      "metadata": {
        "id": "J_4hGaaq9ne6"
      }
    },
    {
      "cell_type": "markdown",
      "source": [
        "# Hypothesis Testing"
      ],
      "metadata": {
        "id": "V6iIDuV59cHE"
      }
    },
    {
      "cell_type": "markdown",
      "source": [
        "Null Hypothesis: Failed transaction count and risk score have no effect on determining whether or not a transaction is fraudulent."
      ],
      "metadata": {
        "id": "3cHkuDsG7dMv"
      }
    },
    {
      "cell_type": "markdown",
      "source": [
        "Alternative Hypothesis: Failed transaction count and risk score have an effect on determining whether or not a transaction is fraudulent."
      ],
      "metadata": {
        "id": "Y6830bHQ_2ej"
      }
    },
    {
      "cell_type": "code",
      "source": [
        "# t-testing risk score and failed transaction count\n",
        "t_stat, p_val = stats.ttest_ind(fraud_df['Risk_Score'], fraud_df['Failed_Transaction_Count_7d'])\n",
        "print('risk score vs. failed transaction count')\n",
        "print('t-statistic:', t_stat)\n",
        "print(f'p-value: {p_val:.10f}')\n",
        "\n",
        "# t-testing failed transaction count and fraud label.\n",
        "t_stat, p_val = stats.ttest_ind(fraud_df['Failed_Transaction_Count_7d'], fraud_df['Fraud_Label'])\n",
        "print('failed transaction count vs. fraud label')\n",
        "print('t-statistic:', t_stat)\n",
        "print(f'p-value: {p_val:.10f}')\n",
        "\n",
        "# t-testing risk score and fraud label\n",
        "t_stat, p_val = stats.ttest_ind(fraud_df['Risk_Score'], fraud_df['Fraud_Label'])\n",
        "print('risk score vs. fraud label')\n",
        "print('t-statistic:', t_stat)\n",
        "print(f'p-value: {p_val:.10f}')\n",
        "\n",
        "# t-testing the data used to create my ml model\n",
        "#t_stat, p_val = stats.ttest_ind(x_train, x_test)\n",
        "#print('t-statistic:', t_stat)\n",
        "#print('p-value:', p_val)"
      ],
      "metadata": {
        "colab": {
          "base_uri": "https://localhost:8080/"
        },
        "id": "S-bymH65opho",
        "outputId": "4ad35eaa-7253-4f74-9340-f0f983bf07ac"
      },
      "execution_count": null,
      "outputs": [
        {
          "output_type": "stream",
          "name": "stdout",
          "text": [
            "risk score vs. failed transaction count\n",
            "t-statistic: -232.7060906630539\n",
            "p-value: 0.0000000000\n",
            "failed transaction count vs. fraud label\n",
            "t-statistic: 252.5556839473737\n",
            "p-value: 0.0000000000\n",
            "risk score vs. fraud label\n",
            "t-statistic: 73.46269890872061\n",
            "p-value: 0.0000000000\n"
          ]
        }
      ]
    },
    {
      "cell_type": "markdown",
      "source": [
        "I can reject the null hypothesis because the p-value is less than 0.05."
      ],
      "metadata": {
        "id": "xvi8GzzYAdQW"
      }
    },
    {
      "cell_type": "markdown",
      "source": [
        "# Conclusion"
      ],
      "metadata": {
        "id": "B6WIj-Gn-jYz"
      }
    },
    {
      "cell_type": "markdown",
      "source": [
        "Failed transaction count and risk score are correlated to whether or not a transaction is fradulent and have an effect on determining whether or not a transaction is fraudulent. Using these two variables, a machine learning model can be created to accurately classify transactions as either fraud or not fraud."
      ],
      "metadata": {
        "id": "EXI2zkfm-lLu"
      }
    }
  ]
}